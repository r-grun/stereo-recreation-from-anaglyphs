{
 "cells": [
  {
   "metadata": {},
   "cell_type": "markdown",
   "source": "## Imports",
   "id": "f0a5cceb8054358"
  },
  {
   "metadata": {},
   "cell_type": "code",
   "outputs": [],
   "execution_count": null,
   "source": [
    "from torchvision.extension import path_arr\n",
    "import config as c\n",
    "import torch\n",
    "from torch.utils.data import DataLoader\n",
    "from torchvision import transforms\n",
    "from image_colorization.models import MainModel\n",
    "from image_colorization.dataset import make_dataloaders"
   ],
   "id": "8165937843bfcfd3"
  },
  {
   "metadata": {},
   "cell_type": "markdown",
   "source": "## Set global parameters",
   "id": "ecd1051f767b6758"
  },
  {
   "metadata": {},
   "cell_type": "code",
   "outputs": [],
   "execution_count": null,
   "source": "device = torch.device(\"cuda\" if torch.cuda.is_available() else \"cpu\")",
   "id": "70268170c419b87d"
  },
  {
   "metadata": {},
   "cell_type": "markdown",
   "source": "## Load data",
   "id": "757c7dde4ad095cd"
  },
  {
   "metadata": {},
   "cell_type": "code",
   "outputs": [],
   "execution_count": null,
   "source": [
    "# load train data from c.train_anaglyph_paths_file\n",
    "train_anaglyphs_paths = open(c.TRAIN_ANAGLYPH_FILE, 'r').read().splitlines()\n",
    "train_reversed_paths = open(c.TRAIN_REVERSED_FILE, 'r').read().splitlines()\n",
    "\n",
    "# load val data from c.val_anaglyph_paths_file\n",
    "val_anaglyphs_paths = open(c.VALIDATION_ANAGLYPH_FILE, 'r').read().splitlines()\n",
    "val_reversed_paths = open(c.VALIDATION_REVERSED_FILE, 'r').read().splitlines()\n",
    "\n",
    "# load test data from c.test_anaglyph_paths_file\n",
    "test_anaglyphs_paths = open(c.TEST_ANAGLYPH_FILE, 'r').read().splitlines()\n",
    "test_reversed_paths = open(c.TEST_REVERSED_FILE, 'r').read().splitlines()\n",
    "\n",
    "# create dataloaders\n",
    "train_dl = make_dataloaders(path_anaglyph=train_anaglyphs_paths, path_reversed=train_reversed_paths, split='train')\n",
    "val_dl = make_dataloaders(path_anaglyph=val_anaglyphs_paths, path_reversed=val_reversed_paths, split='val')"
   ],
   "id": "7448534a108402e4"
  }
 ],
 "metadata": {
  "kernelspec": {
   "display_name": "Python 3",
   "language": "python",
   "name": "python3"
  },
  "language_info": {
   "codemirror_mode": {
    "name": "ipython",
    "version": 2
   },
   "file_extension": ".py",
   "mimetype": "text/x-python",
   "name": "python",
   "nbconvert_exporter": "python",
   "pygments_lexer": "ipython2",
   "version": "2.7.6"
  }
 },
 "nbformat": 4,
 "nbformat_minor": 5
}
